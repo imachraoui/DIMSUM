{
 "cells": [
  {
   "cell_type": "code",
   "execution_count": 1,
   "metadata": {
    "collapsed": true
   },
   "outputs": [],
   "source": [
    "import pyensae\n",
    "blobstorage = \"hdblobstorage\"\n",
    "blobpassword = \"jQIPVO/T54w8X49UPIbzAVvaNO3wmuUwI4/o9AJnCaPTHoCQnsaGBUkT4eIyi0BRQavgc/TAQMQwy8eu19CSBQ==\"\n",
    "hadoop_server = \"clusterensaeazure1\"\n",
    "hadoop_password = \"2azureENSAE;\"\n",
    "username = \"test\""
   ]
  },
  {
   "cell_type": "code",
   "execution_count": 2,
   "metadata": {
    "collapsed": true
   },
   "outputs": [],
   "source": [
    "hadoop_server = \"sparkclus2ensae\"\n",
    "hadoop_password = \"ENSAEspark1;\"\n",
    "username = \"test\""
   ]
  },
  {
   "cell_type": "code",
   "execution_count": 3,
   "metadata": {
    "collapsed": false
   },
   "outputs": [
    {
     "data": {
      "text/plain": [
       "(<pyensae.remote.azure_connection.AzureClient at 0x96f5b38>,\n",
       " <azure.storage.blob.blobservice.BlobService at 0x48a8860>)"
      ]
     },
     "execution_count": 3,
     "metadata": {},
     "output_type": "execute_result"
    }
   ],
   "source": [
    "client, bs = %hd_open\n",
    "client, bs"
   ]
  },
  {
   "cell_type": "code",
   "execution_count": 2,
   "metadata": {
    "collapsed": false
   },
   "outputs": [],
   "source": [
    "with open(\"yoyo.txt\", \"w\", encoding=\"utf8\") as f:\n",
    "    for i in range(0,100000):\n",
    "        f.write(\"{0},{1},{2}\\n\".format(i,i*2/5, -i+1))\n",
    "    f.write(\"1,1,1\")"
   ]
  },
  {
   "cell_type": "code",
   "execution_count": 3,
   "metadata": {
    "collapsed": true
   },
   "outputs": [],
   "source": [
    "with open(\"yoyow.txt\", \"w\", encoding=\"utf8\") as f:\n",
    "    for i in range(0,100000):\n",
    "        f.write(\"{0},{1},{2}\\n\".format(i/100,i, -i-5))\n",
    "    f.write(\"1,1,1\")"
   ]
  },
  {
   "cell_type": "code",
   "execution_count": 39,
   "metadata": {
    "collapsed": false
   },
   "outputs": [
    {
     "data": {
      "text/html": [
       "<pre>\n",
       "999.91,99991,-99996999.92,99992,-99997999.93,99993,-99998999.94,99994,-99999999.95,99995,-100000999.96,99996,-100001999.97,99997,-100002999.98,99998,-100003999.99,99999,-1000041,1,1\n",
       "</pre>"
      ],
      "text/plain": [
       "<IPython.core.display.HTML object>"
      ]
     },
     "execution_count": 39,
     "metadata": {},
     "output_type": "execute_result"
    }
   ],
   "source": [
    "%tail yoyow.txt"
   ]
  },
  {
   "cell_type": "code",
   "execution_count": 40,
   "metadata": {
    "collapsed": false
   },
   "outputs": [
    {
     "data": {
      "text/plain": [
       "'test/yoyow.txt'"
      ]
     },
     "execution_count": 40,
     "metadata": {},
     "output_type": "execute_result"
    }
   ],
   "source": [
    "%blob_up yoyow.txt hdblobstorage/test/yoyow.txt"
   ]
  },
  {
   "cell_type": "code",
   "execution_count": 106,
   "metadata": {
    "collapsed": true
   },
   "outputs": [],
   "source": [
    "%%PIG sample_explore.pig\n",
    "\n",
    "ensemble = LOAD '$CONTAINER/$PSEUDO/yo.txt' \n",
    "        USING PigStorage('\\t') AS (x:int, v:chararray) ;\n",
    "ensemble2 = LOAD '$CONTAINER/$PSEUDO/yo.txt' \n",
    "        USING PigStorage('\\t') AS (x:int, v:chararray) ;\n",
    "test = GROUP ensemble BY $0 ;\n",
    "testfilter = FILTER ensemble BY x <10;\n",
    "testfilter2 = GROUP testfilter all;\n",
    "testTotal= GROUP ensemble2 all;\n",
    "somme = FOREACH testfilter2 {\n",
    "    a= SUM(testfilter.x);\n",
    "    b= group;\n",
    "    c= a+1;\n",
    "    GENERATE a,b,c;\n",
    "    }\n",
    "DUMP somme;\n",
    "DUMP testfilter2;\n",
    "\n",
    "--counting = FOREACH test GENERATE COUNT($1);\n",
    "--DUMP counting;\n",
    "--DESCRIBE ensemble;\n",
    "--ens_group = GROUP ensemble ALL;\n",
    "--DESCRIBE ens_group;\n",
    "--sampled = FOREACH ens_group GENERATE FLATTEN(ensemble);\n",
    "--DESCRIBE sampled;\n",
    "--ens10 = LIMIT ensemble 10;\n",
    "--ens_group10 = LIMIT en_group10 ;\n",
    "--DUMP ens10;\n",
    "--DUMP ens_group10;"
   ]
  },
  {
   "cell_type": "code",
   "execution_count": 57,
   "metadata": {
    "collapsed": true
   },
   "outputs": [],
   "source": [
    "%%PIG yoyop.pig\n",
    "(t1:tuple(t1a:int, t1b:int,t1c:int),t2:tuple(t2a:int,t2b:int,t2c:int));\n",
    "\n",
    "REGISTER '$CONTAINER/$PSEUDO/tupling.py' using jython as tupling;\n",
    "data = LOAD '$CONTAINER/$PSEUDO/yoyo.txt' \n",
    "        USING PigStorage(',') AS (x1:double,x2:double,x3:double) ;\n",
    "dataw = LOAD '$CONTAINER/$PSEUDO/yoyow.txt' \n",
    "        USING PigStorage(',') AS (w1:double,w2:double,w3:double) ;\n",
    "--testing1 = foreach data generate TOTUPLE(x2, x1)as test;\n",
    "testing = foreach data generate tupling.test(dataw, x1)as test;\n",
    "DUMP testing;\n",
    "--DESCRIBE testing;\n",
    "--todisplay2 = FOREACH testing  GENERATE $1 AS test2;\n",
    "--dump todisplay2;"
   ]
  },
  {
   "cell_type": "code",
   "execution_count": 173,
   "metadata": {
    "collapsed": false
   },
   "outputs": [
    {
     "data": {
      "text/plain": [
       "True"
      ]
     },
     "execution_count": 173,
     "metadata": {},
     "output_type": "execute_result"
    }
   ],
   "source": [
    "%blob_close"
   ]
  },
  {
   "cell_type": "code",
   "execution_count": 60,
   "metadata": {
    "collapsed": false
   },
   "outputs": [
    {
     "data": {
      "text/plain": [
       "'test/test_c.py'"
      ]
     },
     "execution_count": 60,
     "metadata": {},
     "output_type": "execute_result"
    }
   ],
   "source": [
    "%blob_up test_c.py hdblobstorage/test/test_c.py"
   ]
  },
  {
   "cell_type": "code",
   "execution_count": 58,
   "metadata": {
    "collapsed": false
   },
   "outputs": [
    {
     "data": {
      "text/plain": [
       "{'id': 'job_1451961118663_2275'}"
      ]
     },
     "execution_count": 58,
     "metadata": {},
     "output_type": "execute_result"
    }
   ],
   "source": [
    "jid = %hd_pig_submit yoyop.pig\n",
    "jid"
   ]
  },
  {
   "cell_type": "code",
   "execution_count": 60,
   "metadata": {
    "collapsed": false
   },
   "outputs": [
    {
     "data": {
      "text/plain": [
       "('job_1451961118663_2275', None, 'done', True, 'SUCCEEDED')"
      ]
     },
     "execution_count": 60,
     "metadata": {},
     "output_type": "execute_result"
    }
   ],
   "source": [
    "st = %hd_job_status jid[\"id\"]\n",
    "(st[\"id\"],st[\"percentComplete\"],st[\"completed\"],\n",
    "st[\"status\"][\"jobComplete\"],st[\"status\"][\"state\"])"
   ]
  },
  {
   "cell_type": "code",
   "execution_count": 55,
   "metadata": {
    "collapsed": false
   },
   "outputs": [],
   "source": [
    "%%PYTHON tupling.py\n",
    "\n",
    "@outputSchema(\"y:bag{t:tuple(d:double,w:double)}\")\n",
    "def test(weights,d):\n",
    "    bag =[]\n",
    "    for i in range(len(weights)):\n",
    "        bag.append((weights[i][1],d))\n",
    "        \n",
    "    return bag\n",
    "\n"
   ]
  },
  {
   "cell_type": "code",
   "execution_count": 54,
   "metadata": {
    "collapsed": false
   },
   "outputs": [
    {
     "name": "stdout",
     "output_type": "stream",
     "text": [
      "2\n"
     ]
    }
   ],
   "source": [
    "bag=[]\n",
    "bag.append((1,2,3))\n",
    "bag.append((4,4,6))\n",
    "print(len(bag))"
   ]
  },
  {
   "cell_type": "code",
   "execution_count": 56,
   "metadata": {
    "collapsed": false
   },
   "outputs": [
    {
     "data": {
      "text/plain": [
       "'test/tupling.py'"
      ]
     },
     "execution_count": 56,
     "metadata": {},
     "output_type": "execute_result"
    }
   ],
   "source": [
    "%blob_up tupling.py hdblobstorage/test/tupling.py"
   ]
  },
  {
   "cell_type": "code",
   "execution_count": 64,
   "metadata": {
    "collapsed": true
   },
   "outputs": [],
   "source": [
    "%%PYTHON reservoir_sampling.py\n",
    "\n",
    "import random\n",
    "\n",
    "@outputSchemaFunction(\"rsSchema\")\n",
    "def reservoir_sampling(ensemble):\n",
    "    ensemble = eval(ensemble)\n",
    "    k = 10\n",
    "    N = len(ensemble)\n",
    "    echantillon = []\n",
    "    for i, e in enumerate(ensemble):\n",
    "        if len(echantillon) < k:\n",
    "            echantillon.append(e)\n",
    "        else:\n",
    "            j = random.randint(0, i)\n",
    "            if j < k:\n",
    "                echantillon[j] = e\n",
    "    return echantillon\n",
    "\n",
    "@schemaFunction(\"rsSchema\")\n",
    "def rsSchema(input):\n",
    "    return input"
   ]
  },
  {
   "cell_type": "code",
   "execution_count": 2,
   "metadata": {
    "collapsed": true
   },
   "outputs": [],
   "source": [
    "%%PIG sample_explore_complete.pig\n",
    "REGISTER '$CONTAINER/$SCRIPTPIG/reservoir_sampling.py' using jython as myrs;\n",
    "ensemble = LOAD '$CONTAINER/$PSEUDO/yo.txt'\n",
    "        USING PigStorage('\\t') AS (x:int, v:chararray) ;\n",
    "DESCRIBE ensemble;\n",
    "ens_group = GROUP ensemble ALL;\n",
    "DESCRIBE ens_group;\n",
    "sampled = FOREACH ens_group GENERATE FLATTEN(myrs.reservoir_sample(ensemble));\n",
    "DESCRIBE sampled;\n",
    "STORE sampled INTO\n",
    "INTO '$CONTAINER/$PSEUDO/sampling/sample_rs.txt' USING PigStorage();"
   ]
  },
  {
   "cell_type": "code",
   "execution_count": 22,
   "metadata": {
    "collapsed": false
   },
   "outputs": [
    {
     "ename": "AttributeError",
     "evalue": "'list' object has no attribute 'endswith'",
     "output_type": "error",
     "traceback": [
      "\u001b[1;31m---------------------------------------------------------------------------\u001b[0m",
      "\u001b[1;31mAttributeError\u001b[0m                            Traceback (most recent call last)",
      "\u001b[1;32m<ipython-input-22-5598189459a2>\u001b[0m in \u001b[0;36m<module>\u001b[1;34m()\u001b[0m\n\u001b[1;32m----> 1\u001b[1;33m \u001b[0mjid\u001b[0m \u001b[1;33m=\u001b[0m \u001b[0mget_ipython\u001b[0m\u001b[1;33m(\u001b[0m\u001b[1;33m)\u001b[0m\u001b[1;33m.\u001b[0m\u001b[0mmagic\u001b[0m\u001b[1;33m(\u001b[0m\u001b[1;34m'hd_pig_submit sample_explore_complete.pig -d reservoir_sampling.py'\u001b[0m\u001b[1;33m)\u001b[0m\u001b[1;33m\u001b[0m\u001b[0m\n\u001b[0m\u001b[0;32m      2\u001b[0m \u001b[0mjid\u001b[0m\u001b[1;33m\u001b[0m\u001b[0m\n",
      "\u001b[1;32mc:\\users\\wymeka\\documents\\python\\python\\lib\\site-packages\\IPython\\core\\interactiveshell.py\u001b[0m in \u001b[0;36mmagic\u001b[1;34m(self, arg_s)\u001b[0m\n\u001b[0;32m   2334\u001b[0m         \u001b[0mmagic_name\u001b[0m\u001b[1;33m,\u001b[0m \u001b[0m_\u001b[0m\u001b[1;33m,\u001b[0m \u001b[0mmagic_arg_s\u001b[0m \u001b[1;33m=\u001b[0m \u001b[0marg_s\u001b[0m\u001b[1;33m.\u001b[0m\u001b[0mpartition\u001b[0m\u001b[1;33m(\u001b[0m\u001b[1;34m' '\u001b[0m\u001b[1;33m)\u001b[0m\u001b[1;33m\u001b[0m\u001b[0m\n\u001b[0;32m   2335\u001b[0m         \u001b[0mmagic_name\u001b[0m \u001b[1;33m=\u001b[0m \u001b[0mmagic_name\u001b[0m\u001b[1;33m.\u001b[0m\u001b[0mlstrip\u001b[0m\u001b[1;33m(\u001b[0m\u001b[0mprefilter\u001b[0m\u001b[1;33m.\u001b[0m\u001b[0mESC_MAGIC\u001b[0m\u001b[1;33m)\u001b[0m\u001b[1;33m\u001b[0m\u001b[0m\n\u001b[1;32m-> 2336\u001b[1;33m         \u001b[1;32mreturn\u001b[0m \u001b[0mself\u001b[0m\u001b[1;33m.\u001b[0m\u001b[0mrun_line_magic\u001b[0m\u001b[1;33m(\u001b[0m\u001b[0mmagic_name\u001b[0m\u001b[1;33m,\u001b[0m \u001b[0mmagic_arg_s\u001b[0m\u001b[1;33m)\u001b[0m\u001b[1;33m\u001b[0m\u001b[0m\n\u001b[0m\u001b[0;32m   2337\u001b[0m \u001b[1;33m\u001b[0m\u001b[0m\n\u001b[0;32m   2338\u001b[0m     \u001b[1;31m#-------------------------------------------------------------------------\u001b[0m\u001b[1;33m\u001b[0m\u001b[1;33m\u001b[0m\u001b[0m\n",
      "\u001b[1;32mc:\\users\\wymeka\\documents\\python\\python\\lib\\site-packages\\IPython\\core\\interactiveshell.py\u001b[0m in \u001b[0;36mrun_line_magic\u001b[1;34m(self, magic_name, line)\u001b[0m\n\u001b[0;32m   2255\u001b[0m                 \u001b[0mkwargs\u001b[0m\u001b[1;33m[\u001b[0m\u001b[1;34m'local_ns'\u001b[0m\u001b[1;33m]\u001b[0m \u001b[1;33m=\u001b[0m \u001b[0msys\u001b[0m\u001b[1;33m.\u001b[0m\u001b[0m_getframe\u001b[0m\u001b[1;33m(\u001b[0m\u001b[0mstack_depth\u001b[0m\u001b[1;33m)\u001b[0m\u001b[1;33m.\u001b[0m\u001b[0mf_locals\u001b[0m\u001b[1;33m\u001b[0m\u001b[0m\n\u001b[0;32m   2256\u001b[0m             \u001b[1;32mwith\u001b[0m \u001b[0mself\u001b[0m\u001b[1;33m.\u001b[0m\u001b[0mbuiltin_trap\u001b[0m\u001b[1;33m:\u001b[0m\u001b[1;33m\u001b[0m\u001b[0m\n\u001b[1;32m-> 2257\u001b[1;33m                 \u001b[0mresult\u001b[0m \u001b[1;33m=\u001b[0m \u001b[0mfn\u001b[0m\u001b[1;33m(\u001b[0m\u001b[1;33m*\u001b[0m\u001b[0margs\u001b[0m\u001b[1;33m,\u001b[0m\u001b[1;33m**\u001b[0m\u001b[0mkwargs\u001b[0m\u001b[1;33m)\u001b[0m\u001b[1;33m\u001b[0m\u001b[0m\n\u001b[0m\u001b[0;32m   2258\u001b[0m             \u001b[1;32mreturn\u001b[0m \u001b[0mresult\u001b[0m\u001b[1;33m\u001b[0m\u001b[0m\n\u001b[0;32m   2259\u001b[0m \u001b[1;33m\u001b[0m\u001b[0m\n",
      "\u001b[1;32mc:\\users\\wymeka\\documents\\python\\python\\lib\\site-packages\\pyensae\\remote\\magic_azure.py\u001b[0m in \u001b[0;36mhd_pig_submit\u001b[1;34m(self, line)\u001b[0m\n",
      "\u001b[1;32mc:\\users\\wymeka\\documents\\python\\python\\lib\\site-packages\\IPython\\core\\magic.py\u001b[0m in \u001b[0;36m<lambda>\u001b[1;34m(f, *a, **k)\u001b[0m\n\u001b[0;32m    191\u001b[0m     \u001b[1;31m# but it's overkill for just that one bit of state.\u001b[0m\u001b[1;33m\u001b[0m\u001b[1;33m\u001b[0m\u001b[0m\n\u001b[0;32m    192\u001b[0m     \u001b[1;32mdef\u001b[0m \u001b[0mmagic_deco\u001b[0m\u001b[1;33m(\u001b[0m\u001b[0marg\u001b[0m\u001b[1;33m)\u001b[0m\u001b[1;33m:\u001b[0m\u001b[1;33m\u001b[0m\u001b[0m\n\u001b[1;32m--> 193\u001b[1;33m         \u001b[0mcall\u001b[0m \u001b[1;33m=\u001b[0m \u001b[1;32mlambda\u001b[0m \u001b[0mf\u001b[0m\u001b[1;33m,\u001b[0m \u001b[1;33m*\u001b[0m\u001b[0ma\u001b[0m\u001b[1;33m,\u001b[0m \u001b[1;33m**\u001b[0m\u001b[0mk\u001b[0m\u001b[1;33m:\u001b[0m \u001b[0mf\u001b[0m\u001b[1;33m(\u001b[0m\u001b[1;33m*\u001b[0m\u001b[0ma\u001b[0m\u001b[1;33m,\u001b[0m \u001b[1;33m**\u001b[0m\u001b[0mk\u001b[0m\u001b[1;33m)\u001b[0m\u001b[1;33m\u001b[0m\u001b[0m\n\u001b[0m\u001b[0;32m    194\u001b[0m \u001b[1;33m\u001b[0m\u001b[0m\n\u001b[0;32m    195\u001b[0m         \u001b[1;32mif\u001b[0m \u001b[0mcallable\u001b[0m\u001b[1;33m(\u001b[0m\u001b[0marg\u001b[0m\u001b[1;33m)\u001b[0m\u001b[1;33m:\u001b[0m\u001b[1;33m\u001b[0m\u001b[0m\n",
      "\u001b[1;32mc:\\users\\wymeka\\documents\\python\\python\\lib\\site-packages\\pyensae\\remote\\magic_azure.py\u001b[0m in \u001b[0;36mhd_pig_submit\u001b[1;34m(self, line)\u001b[0m\n\u001b[0;32m    759\u001b[0m             \u001b[0mpig\u001b[0m \u001b[1;33m=\u001b[0m \u001b[0margs\u001b[0m\u001b[1;33m.\u001b[0m\u001b[0mfile\u001b[0m\u001b[1;33m\u001b[0m\u001b[0m\n\u001b[0;32m    760\u001b[0m             pys = [_ for _ in args.dependency if _.endswith(\n\u001b[1;32m--> 761\u001b[1;33m                 \".py\")] if args.dependency is not None else []\n\u001b[0m\u001b[0;32m    762\u001b[0m \u001b[1;33m\u001b[0m\u001b[0m\n\u001b[0;32m    763\u001b[0m             \u001b[1;32mif\u001b[0m \u001b[1;32mnot\u001b[0m \u001b[0mos\u001b[0m\u001b[1;33m.\u001b[0m\u001b[0mpath\u001b[0m\u001b[1;33m.\u001b[0m\u001b[0mexists\u001b[0m\u001b[1;33m(\u001b[0m\u001b[0mpig\u001b[0m\u001b[1;33m)\u001b[0m\u001b[1;33m:\u001b[0m\u001b[1;33m\u001b[0m\u001b[0m\n",
      "\u001b[1;32mc:\\users\\wymeka\\documents\\python\\python\\lib\\site-packages\\pyensae\\remote\\magic_azure.py\u001b[0m in \u001b[0;36m<listcomp>\u001b[1;34m(.0)\u001b[0m\n\u001b[0;32m    758\u001b[0m         \u001b[1;32mif\u001b[0m \u001b[0margs\u001b[0m \u001b[1;32mis\u001b[0m \u001b[1;32mnot\u001b[0m \u001b[1;32mNone\u001b[0m\u001b[1;33m:\u001b[0m\u001b[1;33m\u001b[0m\u001b[0m\n\u001b[0;32m    759\u001b[0m             \u001b[0mpig\u001b[0m \u001b[1;33m=\u001b[0m \u001b[0margs\u001b[0m\u001b[1;33m.\u001b[0m\u001b[0mfile\u001b[0m\u001b[1;33m\u001b[0m\u001b[0m\n\u001b[1;32m--> 760\u001b[1;33m             pys = [_ for _ in args.dependency if _.endswith(\n\u001b[0m\u001b[0;32m    761\u001b[0m                 \".py\")] if args.dependency is not None else []\n\u001b[0;32m    762\u001b[0m \u001b[1;33m\u001b[0m\u001b[0m\n",
      "\u001b[1;31mAttributeError\u001b[0m: 'list' object has no attribute 'endswith'"
     ]
    }
   ],
   "source": [
    "jid = %hd_pig_submit sample_explore_complete.pig -d reservoir_sampling.py\n",
    "jid"
   ]
  },
  {
   "cell_type": "code",
   "execution_count": 59,
   "metadata": {
    "collapsed": true
   },
   "outputs": [],
   "source": [
    "%%PYTHON test_c.py\n",
    "\n",
    "from pig_util import outputSchema\n",
    "\n",
    "@outputSchema(\"output_field_name:chararray\")\n",
    "def top_5_bigrams(tweets):\n",
    "\n",
    "    \n",
    "    return \"testinnnng\""
   ]
  },
  {
   "cell_type": "code",
   "execution_count": 49,
   "metadata": {
    "collapsed": true
   },
   "outputs": [],
   "source": [
    "%%PIG exptestnumpy.pig\n",
    "\n",
    "REGISTER '$CONTAINER/$PSEUDO/test_c.py' USING streaming_python AS nltk_udfs;\n",
    " \n",
    "tweets =  LOAD '$CONTAINER/$PSEUDO/yo.txt'\n",
    "        USING PigStorage('\\t') AS (x:int, v:chararray) ;\n",
    "\n",
    "bigrams_by_place = FOREACH tweets GENERATE  nltk_udfs.top_5_bigrams(v);\n",
    "DUMP bigrams_by_place;"
   ]
  },
  {
   "cell_type": "code",
   "execution_count": 61,
   "metadata": {
    "collapsed": false
   },
   "outputs": [
    {
     "data": {
      "text/plain": [
       "{'id': 'job_1451961118663_0134'}"
      ]
     },
     "execution_count": 61,
     "metadata": {},
     "output_type": "execute_result"
    }
   ],
   "source": [
    "jid = %hd_pig_submit exptestnumpy.pig\n",
    "jid"
   ]
  },
  {
   "cell_type": "code",
   "execution_count": 64,
   "metadata": {
    "collapsed": false
   },
   "outputs": [
    {
     "data": {
      "text/plain": [
       "('job_1451961118663_0134', '100% complete', 'done', True, 'SUCCEEDED')"
      ]
     },
     "execution_count": 64,
     "metadata": {},
     "output_type": "execute_result"
    }
   ],
   "source": [
    "st = %hd_job_status jid[\"id\"]\n",
    "(st[\"id\"],st[\"percentComplete\"],st[\"completed\"],\n",
    "st[\"status\"][\"jobComplete\"],st[\"status\"][\"state\"])"
   ]
  },
  {
   "cell_type": "code",
   "execution_count": 23,
   "metadata": {
    "collapsed": false
   },
   "outputs": [
    {
     "ename": "NameError",
     "evalue": "name 'array' is not defined",
     "output_type": "error",
     "traceback": [
      "\u001b[1;31m---------------------------------------------------------------------------\u001b[0m",
      "\u001b[1;31mNameError\u001b[0m                                 Traceback (most recent call last)",
      "\u001b[1;32m<ipython-input-23-28f2f8e7f6c1>\u001b[0m in \u001b[0;36m<module>\u001b[1;34m()\u001b[0m\n\u001b[0;32m      1\u001b[0m \u001b[1;32mimport\u001b[0m \u001b[0mnumpy\u001b[0m \u001b[1;32mas\u001b[0m \u001b[0mnp\u001b[0m\u001b[1;33m\u001b[0m\u001b[0m\n\u001b[1;32m----> 2\u001b[1;33m \u001b[0ma\u001b[0m\u001b[1;33m=\u001b[0m\u001b[0marray\u001b[0m\u001b[1;33m(\u001b[0m\u001b[1;33m[\u001b[0m\u001b[1;33m[\u001b[0m\u001b[1;36m12\u001b[0m\u001b[1;33m,\u001b[0m\u001b[1;36m3\u001b[0m\u001b[1;33m,\u001b[0m\u001b[1;36m4\u001b[0m\u001b[1;33m,\u001b[0m\u001b[1;36m5\u001b[0m\u001b[1;33m]\u001b[0m\u001b[1;33m,\u001b[0m\u001b[1;33m[\u001b[0m\u001b[1;36m4\u001b[0m\u001b[1;33m,\u001b[0m\u001b[1;36m9\u001b[0m\u001b[1;33m,\u001b[0m\u001b[1;33m-\u001b[0m\u001b[1;36m1\u001b[0m\u001b[1;33m,\u001b[0m\u001b[1;36m5\u001b[0m\u001b[1;33m]\u001b[0m\u001b[1;33m]\u001b[0m\u001b[1;33m,\u001b[0m\u001b[1;33m[\u001b[0m\u001b[1;33m[\u001b[0m\u001b[1;33m-\u001b[0m\u001b[1;36m1\u001b[0m\u001b[1;33m,\u001b[0m\u001b[1;33m-\u001b[0m\u001b[1;36m1\u001b[0m\u001b[1;33m,\u001b[0m\u001b[1;33m-\u001b[0m\u001b[1;36m1\u001b[0m\u001b[1;33m,\u001b[0m\u001b[1;36m6\u001b[0m\u001b[1;33m]\u001b[0m\u001b[1;33m,\u001b[0m\u001b[1;33m[\u001b[0m\u001b[1;36m98\u001b[0m\u001b[1;33m,\u001b[0m\u001b[1;36m5\u001b[0m\u001b[1;33m,\u001b[0m\u001b[1;36m0\u001b[0m\u001b[1;33m,\u001b[0m\u001b[1;33m-\u001b[0m\u001b[1;36m8\u001b[0m\u001b[1;33m]\u001b[0m\u001b[1;33m]\u001b[0m\u001b[1;33m,\u001b[0m\u001b[1;33m[\u001b[0m\u001b[1;33m[\u001b[0m\u001b[1;33m-\u001b[0m\u001b[1;36m1\u001b[0m\u001b[1;33m,\u001b[0m\u001b[1;33m-\u001b[0m\u001b[1;36m1\u001b[0m\u001b[1;33m,\u001b[0m\u001b[1;33m-\u001b[0m\u001b[1;36m1\u001b[0m\u001b[1;33m,\u001b[0m\u001b[1;36m6\u001b[0m\u001b[1;33m]\u001b[0m\u001b[1;33m,\u001b[0m\u001b[1;33m[\u001b[0m\u001b[1;36m98\u001b[0m\u001b[1;33m,\u001b[0m\u001b[1;36m5\u001b[0m\u001b[1;33m,\u001b[0m\u001b[1;36m0\u001b[0m\u001b[1;33m,\u001b[0m\u001b[1;33m-\u001b[0m\u001b[1;36m8\u001b[0m\u001b[1;33m]\u001b[0m\u001b[1;33m]\u001b[0m\u001b[1;33m)\u001b[0m\u001b[1;33m\u001b[0m\u001b[0m\n\u001b[0m",
      "\u001b[1;31mNameError\u001b[0m: name 'array' is not defined"
     ]
    }
   ],
   "source": [
    "import numpy as np\n",
    "a=array([[12,3,4,5],[4,9,-1,5]],[[-1,-1,-1,6],[98,5,0,-8]],[[-1,-1,-1,6],[98,5,0,-8]])"
   ]
  },
  {
   "cell_type": "code",
   "execution_count": 28,
   "metadata": {
    "collapsed": false
   },
   "outputs": [
    {
     "ename": "ValueError",
     "evalue": "could not broadcast input array from shape (4) into shape (4,3)",
     "output_type": "error",
     "traceback": [
      "\u001b[1;31m---------------------------------------------------------------------------\u001b[0m",
      "\u001b[1;31mValueError\u001b[0m                                Traceback (most recent call last)",
      "\u001b[1;32m<ipython-input-28-c8fe5efac8e1>\u001b[0m in \u001b[0;36m<module>\u001b[1;34m()\u001b[0m\n\u001b[0;32m      1\u001b[0m \u001b[0ma\u001b[0m \u001b[1;33m=\u001b[0m \u001b[0mnp\u001b[0m\u001b[1;33m.\u001b[0m\u001b[0mndarray\u001b[0m\u001b[1;33m(\u001b[0m\u001b[0mshape\u001b[0m\u001b[1;33m=\u001b[0m\u001b[1;33m(\u001b[0m\u001b[1;36m4\u001b[0m\u001b[1;33m,\u001b[0m\u001b[1;36m4\u001b[0m\u001b[1;33m,\u001b[0m\u001b[1;36m3\u001b[0m\u001b[1;33m)\u001b[0m\u001b[1;33m)\u001b[0m\u001b[1;33m\u001b[0m\u001b[0m\n\u001b[1;32m----> 2\u001b[1;33m \u001b[0ma\u001b[0m\u001b[1;33m[\u001b[0m\u001b[1;36m1\u001b[0m\u001b[1;33m,\u001b[0m\u001b[1;33m]\u001b[0m\u001b[1;33m=\u001b[0m\u001b[1;33m[\u001b[0m\u001b[1;36m12\u001b[0m\u001b[1;33m,\u001b[0m\u001b[1;36m3\u001b[0m\u001b[1;33m,\u001b[0m\u001b[1;36m4\u001b[0m\u001b[1;33m,\u001b[0m\u001b[1;36m5\u001b[0m\u001b[1;33m]\u001b[0m\u001b[1;33m\u001b[0m\u001b[0m\n\u001b[0m",
      "\u001b[1;31mValueError\u001b[0m: could not broadcast input array from shape (4) into shape (4,3)"
     ]
    }
   ],
   "source": [
    "a = np.ndarray(shape=(4,4,3))\n",
    "a[1,]=[12,3,4,5]"
   ]
  },
  {
   "cell_type": "code",
   "execution_count": 25,
   "metadata": {
    "collapsed": false
   },
   "outputs": [
    {
     "data": {
      "text/plain": [
       "[array([[[ 0.,  0.,  0.],\n",
       "         [ 0.,  0.,  0.]],\n",
       " \n",
       "        [[ 0.,  0.,  0.],\n",
       "         [ 0.,  0.,  0.]]]), array([[[ 0.,  0.,  0.],\n",
       "         [ 0.,  0.,  0.]],\n",
       " \n",
       "        [[ 0.,  0.,  0.],\n",
       "         [ 0.,  0.,  0.]]]), array([[[ 0.,  0.,  0.],\n",
       "         [ 0.,  0.,  0.]],\n",
       " \n",
       "        [[ 0.,  0.,  0.],\n",
       "         [ 0.,  0.,  0.]]])]"
      ]
     },
     "execution_count": 25,
     "metadata": {},
     "output_type": "execute_result"
    }
   ],
   "source": [
    "np.gradient(a)"
   ]
  },
  {
   "cell_type": "code",
   "execution_count": 61,
   "metadata": {
    "collapsed": false
   },
   "outputs": [
    {
     "data": {
      "text/html": [
       "<div>\n",
       "<table border=\"1\" class=\"dataframe\">\n",
       "  <thead>\n",
       "    <tr style=\"text-align: right;\">\n",
       "      <th></th>\n",
       "      <th>UserID</th>\n",
       "      <th>MovieID</th>\n",
       "      <th>Rating</th>\n",
       "    </tr>\n",
       "  </thead>\n",
       "  <tbody>\n",
       "    <tr>\n",
       "      <th>0</th>\n",
       "      <td>1</td>\n",
       "      <td>661</td>\n",
       "      <td>3</td>\n",
       "    </tr>\n",
       "    <tr>\n",
       "      <th>1</th>\n",
       "      <td>1</td>\n",
       "      <td>914</td>\n",
       "      <td>3</td>\n",
       "    </tr>\n",
       "    <tr>\n",
       "      <th>2</th>\n",
       "      <td>1</td>\n",
       "      <td>3408</td>\n",
       "      <td>4</td>\n",
       "    </tr>\n",
       "    <tr>\n",
       "      <th>3</th>\n",
       "      <td>1</td>\n",
       "      <td>2355</td>\n",
       "      <td>5</td>\n",
       "    </tr>\n",
       "    <tr>\n",
       "      <th>4</th>\n",
       "      <td>1</td>\n",
       "      <td>1197</td>\n",
       "      <td>3</td>\n",
       "    </tr>\n",
       "    <tr>\n",
       "      <th>5</th>\n",
       "      <td>1</td>\n",
       "      <td>1287</td>\n",
       "      <td>5</td>\n",
       "    </tr>\n",
       "    <tr>\n",
       "      <th>6</th>\n",
       "      <td>1</td>\n",
       "      <td>2804</td>\n",
       "      <td>5</td>\n",
       "    </tr>\n",
       "    <tr>\n",
       "      <th>7</th>\n",
       "      <td>1</td>\n",
       "      <td>594</td>\n",
       "      <td>4</td>\n",
       "    </tr>\n",
       "    <tr>\n",
       "      <th>8</th>\n",
       "      <td>1</td>\n",
       "      <td>919</td>\n",
       "      <td>4</td>\n",
       "    </tr>\n",
       "    <tr>\n",
       "      <th>9</th>\n",
       "      <td>1</td>\n",
       "      <td>595</td>\n",
       "      <td>5</td>\n",
       "    </tr>\n",
       "  </tbody>\n",
       "</table>\n",
       "</div>"
      ],
      "text/plain": [
       "   UserID  MovieID  Rating\n",
       "0       1      661       3\n",
       "1       1      914       3\n",
       "2       1     3408       4\n",
       "3       1     2355       5\n",
       "4       1     1197       3\n",
       "5       1     1287       5\n",
       "6       1     2804       5\n",
       "7       1      594       4\n",
       "8       1      919       4\n",
       "9       1      595       5"
      ]
     },
     "execution_count": 61,
     "metadata": {},
     "output_type": "execute_result"
    }
   ],
   "source": [
    "import pandas\n",
    "import numpy as np\n",
    "import matplotlib.pyplot as plt\n",
    "import os\n",
    "from sklearn.metrics import confusion_matrix as cm\n",
    "\n",
    "pathToDataset = \"datarating.csv\"\n",
    "data = pandas.read_csv(pathToDataset, sep=\",\",encoding=\"utf8\")\n",
    "data.head(10)\n",
    "#adjlist = A.unstack([col_name, val_name], 'r_i')\n"
   ]
  },
  {
   "cell_type": "code",
   "execution_count": 70,
   "metadata": {
    "collapsed": false
   },
   "outputs": [],
   "source": [
    "(row_name, col_name, val_name) = data.columns\n"
   ]
  },
  {
   "cell_type": "code",
   "execution_count": 101,
   "metadata": {
    "collapsed": false
   },
   "outputs": [],
   "source": [
    "a=data.pivot(index='UserID', columns='MovieID', values='Rating') "
   ]
  },
  {
   "cell_type": "code",
   "execution_count": 103,
   "metadata": {
    "collapsed": false
   },
   "outputs": [],
   "source": [
    "a[np.isnan(a)]=0"
   ]
  },
  {
   "cell_type": "code",
   "execution_count": 105,
   "metadata": {
    "collapsed": false
   },
   "outputs": [
    {
     "data": {
      "text/plain": [
       "(6040, 3706)"
      ]
     },
     "execution_count": 105,
     "metadata": {},
     "output_type": "execute_result"
    }
   ],
   "source": [
    "a.shape"
   ]
  },
  {
   "cell_type": "code",
   "execution_count": null,
   "metadata": {
    "collapsed": true
   },
   "outputs": [],
   "source": [
    "\n",
    "cData =  LOAD '$CONTAINER/imdd/ratings_mean_short.csv'\n",
    "        using PigStorage (',')\n",
    "        AS (UserID:int, MovieID:int, Rating:double) ;\n",
    "\n",
    "-- On calcul le gamma\n",
    "users = GROUP cData all ;\n",
    "total= FOREACH users GENERATE MAX($1.UserID) as m, MAX($1.MovieID) as n;\n",
    "sqrt_gamma = FOREACH total GENERATE SQRT(4*LOG(n)/0.1) as a;\n",
    "        \n",
    "        \n",
    "cData_grp = GROUP cData BY MovieID;\n",
    "-- DESCRIBE cData_grp;\n",
    "-- On calcule la norme et le gamma sur la norme\n",
    "Matrix_Norms = FOREACH cData_grp {\n",
    "    tmp_out = FOREACH cData GENERATE Rating*Rating;\n",
    "    out = SUM(tmp_out);\n",
    "    GENERATE group as MovieID, SQRT(out) as Norm, (sqrt_gamma.$0/SQRT(out)>1?1:sqrt_gamma.$0/SQRT(out)) as Prob_j,RANDOM() as Rand_j,RANDOM() as Rand_k;\n",
    "}\n",
    "\n",
    "\n",
    "-- On ajoute la colonne Norm et probabilite dans cData\n",
    "C = JOIN cData BY MovieID,Matrix_Norms BY MovieID;\n",
    "D = FOREACH C GENERATE cData::UserID as UserID_f,cData::MovieID as MovieID_f,cData::Rating as Rating_f,\n",
    "                        Matrix_Norms::Norm as Norm_f,Matrix_Norms::Prob_j as Prob_j_f,Rand_j as Rand_j,Rand_k as Rand_k;\n",
    "\n",
    "\n",
    "Matrix_data = GROUP D BY UserID_f;\n",
    "FF = FOREACH Matrix_data GENERATE group, FLATTEN(D.MovieID_f) as MV1;\n",
    "-- Ajout des informations de MV1\n",
    "FFF = JOIN FF BY MV1, D BY MovieID_f; \n",
    "-- Condition de validite IF\n",
    "FFD = FFF ; -- FILTER FFF BY Rand_j<Prob_j_f;\n",
    "-- Ajout de la seconde loop On peut peut etre appliquer un filtre avant le merge\n",
    "GG = JOIN FFD BY group, D BY UserID_f;\n",
    "\n",
    "DESCRIBE FFD;\n",
    "DESCRIBE GG;\n",
    "\n",
    "GGG = FOREACH GG GENERATE FFD::FF::group as UserID,FFD::FF::MV1 as MV_1,FFD::D::Rating_f as Rating_1,FFD::D::Norm_f as Norm_1,\n",
    "                FFD::D::Prob_j_f as Proba_1,D::MovieID_f as MV_2,D::Rating_f as Rating_2,\n",
    "                D::Norm_f as Norm_2,D::Prob_j_f as Proba_2,\n",
    "                D::Rand_j as Rand_j,D::Rand_k as Rand_k;\n",
    "                \n",
    "                \n",
    "\n",
    "-- mettre le calculs ici\n",
    "-- HH = FOREACH GGG{\n",
    "--    GENERATE Rating_1*Rating_2;\n",
    "--}\n",
    "\n",
    "-- DESCRIBE GG;\n",
    "\n",
    "\n",
    "\n",
    "STORE GGG INTO '$CONTAINER/$PSEUDO/dom/matrix_all.txt' USING PigStorage(',');\n",
    "-- STORE HH INTO '$CONTAINER/$PSEUDO/dom/matrix_val.txt' USING PigStorage(',');\n"
   ]
  },
  {
   "cell_type": "code",
   "execution_count": 4,
   "metadata": {
    "collapsed": true
   },
   "outputs": [],
   "source": [
    "%%PIG_azure dom.pig\n",
    "cData =  LOAD '$CONTAINER/imdd/exp_original_short.csv'\n",
    "        using PigStorage (',')\n",
    "        AS (UserID:int,MovieID:int, Rating:double) ;\n",
    "\n",
    "cData_grp = GROUP cData BY MovieID;\n",
    "\n",
    "-- On calcule la norme sur les colonnes\n",
    "Matrix_Norms = FOREACH cData_grp {\n",
    "    tmp_out = FOREACH cData GENERATE Rating*Rating;\n",
    "    out = SUM(tmp_out.$0);\n",
    "    GENERATE group, out, SQRT(out)as norm;\n",
    "}\n",
    "\n",
    "\n",
    "-- On calcule le gamma\n",
    "users = GROUP cData all ;\n",
    "total= FOREACH users GENERATE MAX($1.UserID) as m, MAX($1.MovieID) as n;\n",
    "DUMP total;\n",
    "sqrt_gamma = FOREACH total GENERATE SQRT(4*LOG(n)/0.5) as a;\n",
    "\n",
    "\n",
    "-- Association du MovieId (colonne de la matrice adjacente) avec sa norme \n",
    "inv_matrix_norms_gamma = FOREACH Matrix_Norms GENERATE group as MovieID, norm, ((sqrt_gamma.$0/norm)>1?1:sqrt_gamma.$0/norm) as ratio, RANDOM() as rand;\n",
    "\n",
    "inv_matrix_norms_gamma2 = FOREACH Matrix_Norms GENERATE group as MovieID, norm, ((sqrt_gamma.$0/norm)>1?1:sqrt_gamma.$0/norm) as ratio, RANDOM() as rand;\n",
    "\n",
    "-- Pour la premiere boucle\n",
    "withinvgamma1 = JOIN cData BY MovieID , inv_matrix_norms_gamma BY MovieID;\n",
    "-- Pour la deuxieme boucle\n",
    "withinvgamma2 = JOIN cData BY MovieID , inv_matrix_norms_gamma2 BY MovieID;\n",
    "second_loop = JOIN withinvgamma1 BY UserID ,withinvgamma2 By UserID;\n",
    "DESCRIBE second_loop;\n",
    "\n",
    "loops_clean = FOREACH second_loop GENERATE withinvgamma1::cData::UserID as UserID,withinvgamma1::cData::MovieID as MovieID1,\n",
    "                                        withinvgamma1::cData::Rating as Rating1,\n",
    "                                        withinvgamma1::inv_matrix_norms_gamma::ratio as ratio1,\n",
    "                                        withinvgamma1::inv_matrix_norms_gamma::rand as rand1,\n",
    "                                        withinvgamma1::inv_matrix_norms_gamma::norm as norm1,\n",
    "                                        withinvgamma2::cData::MovieID as MovieID2,withinvgamma2::cData::Rating as Rating2,\n",
    "                                        withinvgamma2::inv_matrix_norms_gamma2::ratio as ratio2,\n",
    "                                        withinvgamma2::inv_matrix_norms_gamma2::rand as rand2,\n",
    "                                        withinvgamma2::inv_matrix_norms_gamma2::norm as norm2;\n",
    "\n",
    "filtered = FILTER loops_clean BY (ratio1> rand1) AND (ratio2 > rand2);\n",
    "result = FOREACH filtered GENERATE TOMAP(CONCAT(((chararray)MovieID1),'_',((chararray)MovieID2)),  \n",
    "                                (Rating1*Rating2 /((sqrt_gamma.$0>norm1?norm1:sqrt_gamma.$0)*(sqrt_gamma.$0>norm2?norm2:sqrt_gamma.$0))));\n",
    "\n",
    "DUMP result;\n",
    "STORE result INTO '$CONTAINER/$PSEUDO/dom/results_map2.txt' USING PigStorage(',');"
   ]
  },
  {
   "cell_type": "code",
   "execution_count": 5,
   "metadata": {
    "collapsed": false
   },
   "outputs": [
    {
     "data": {
      "text/plain": [
       "{'id': 'job_1452664005967_0685'}"
      ]
     },
     "execution_count": 5,
     "metadata": {},
     "output_type": "execute_result"
    }
   ],
   "source": [
    "jid = %hd_pig_submit dom.pig\n",
    "jid"
   ]
  },
  {
   "cell_type": "code",
   "execution_count": 364,
   "metadata": {
    "collapsed": false
   },
   "outputs": [
    {
     "data": {
      "text/plain": [
       "{'id': 'job_1452664005967_0618'}"
      ]
     },
     "execution_count": 364,
     "metadata": {},
     "output_type": "execute_result"
    }
   ],
   "source": [
    "jid = %hd_pig_submit exptestnumpy.pig\n",
    "jid"
   ]
  },
  {
   "cell_type": "code",
   "execution_count": 8,
   "metadata": {
    "collapsed": false
   },
   "outputs": [
    {
     "data": {
      "text/plain": [
       "('job_1452664005967_0685', '100% complete', 'done', True, 'SUCCEEDED')"
      ]
     },
     "execution_count": 8,
     "metadata": {},
     "output_type": "execute_result"
    }
   ],
   "source": [
    "st = %hd_job_status jid[\"id\"]\n",
    "(st[\"id\"],st[\"percentComplete\"],st[\"completed\"],\n",
    "st[\"status\"][\"jobComplete\"],st[\"status\"][\"state\"])"
   ]
  },
  {
   "cell_type": "code",
   "execution_count": 306,
   "metadata": {
    "collapsed": false
   },
   "outputs": [
    {
     "ename": "SyntaxError",
     "evalue": "invalid syntax (<ipython-input-306-6350b479f5e4>, line 1)",
     "output_type": "error",
     "traceback": [
      "\u001b[1;36m  File \u001b[1;32m\"<ipython-input-306-6350b479f5e4>\"\u001b[1;36m, line \u001b[1;32m1\u001b[0m\n\u001b[1;33m    --second_loop_clean = FOREACH second_loop GENERATE withinvgamma::cData::UserID as UserID,\u001b[0m\n\u001b[1;37m                                            ^\u001b[0m\n\u001b[1;31mSyntaxError\u001b[0m\u001b[1;31m:\u001b[0m invalid syntax\n"
     ]
    }
   ],
   "source": [
    "--second_loop_clean = FOREACH second_loop GENERATE withinvgamma::cData::UserID as UserID,\n",
    "--                    withinvgamma::cData::MovieID as MovieID1,withinvgamma::cData::Rating as Rating1,\n",
    "--                                                                                withinvgamma::inv_matrix_norms_gamma::ratio as Ratio1,withinvgamma::inv_matrix_norms_gamma::rand as Rand1,\n",
    "                                                                                                                                    cData::MovieID: int,cData::Rating: double;\n",
    "\n",
    "--cData_byuserid = GROUP withinvgamma BY UserID;\n",
    "--DESCRIBE cData_byuserid;\n",
    "--DUMP cData_byuserid;\n",
    "\n",
    "-- cData_byuserid: {group: int,withinvgamma: {(cData::UserID: int,cData::MovieID: int,cData::Rating: double,inv_matrix_norms_gamma::MovieID: int,inv_matrix_norms_gamma::ratio: double)}}\n",
    "--byuserid_raw = FOREACH cData_byuserid GENERATE group,FLATTEN($1);\n",
    "--DESCRIBE byuserid_raw; \n",
    "\n",
    "\n",
    "--byuserid_clean1 = FOREACH byuserid_raw GENERATE group,withinvgamma::cData::UserID as UserID,withinvgamma::cData::MovieID as MovieID,withinvgamma::cData::Rating as Rating,withinvgamma::inv_matrix_norms_gamma::ratio as ratio;\n",
    "--DESCRIBE byuserid_clean1;\n",
    "--DUMP byuserid_clean;\n",
    "--r_i = FOREACH cData_byuserid {\n",
    "--    filtered = FOREACH $1 GENERATE *,((inv_matrix_norms_gamma::ratio) > RANDOM()?1:0) as filter_result;\n",
    "--    second_loop = FILTER filtered BY filter_result ==1;\n",
    "--    GENERATE group, second_loop;\n",
    "--}\n",
    "--r_i10 = LIMIT r_i 10;\n",
    "--DUMP r_i10;\n",
    "--filtered_k = FILTER inv_matrix_norms_gamma BY ratio > RANDOM();\n",
    "--secondloop = JOIN cData BY MovieID , filtered_k BY MovieID;\n",
    "--DUMP secondloop;"
   ]
  },
  {
   "cell_type": "code",
   "execution_count": 70,
   "metadata": {
    "collapsed": true
   },
   "outputs": [],
   "source": [
    "jid={'id': 'job_1452664005967_0312'}"
   ]
  },
  {
   "cell_type": "code",
   "execution_count": 27,
   "metadata": {
    "collapsed": false
   },
   "outputs": [
    {
     "name": "stdout",
     "output_type": "stream",
     "text": [
      "2 {'id': 'job_1452664005967_0799', 'detail': None} RUNNING 2016-01-30 19:11:29.696000 PigLatin:load_results.pig\n",
      "None PigLatin:load_results.pig\n",
      "4 {'id': 'job_1452664005967_0797', 'detail': None} RUNNING 2016-01-30 19:10:39.920000 TempletonControllerJob\n",
      "wasb://hdblobstorage@hdblobstorage.blob.core.windows.net/test/scripts/pig/load_results.pig TempletonControllerJob\n",
      "10 {'id': 'job_1452664005967_0790', 'detail': None} FAILED 2016-01-30 18:23:45.987999 PigLatin:load_results.pig\n",
      "None PigLatin:load_results.pig\n",
      "12 {'id': 'job_1452664005967_0788', 'detail': None} FAILED 2016-01-30 18:19:43.742000 PigLatin:load_results.pig\n",
      "None PigLatin:load_results.pig\n",
      "15 {'id': 'job_1452664005967_0785', 'detail': None} FAILED 2016-01-30 18:11:06.529999 PigLatin:load_results.pig\n",
      "None PigLatin:load_results.pig\n",
      "18 {'id': 'job_1452664005967_0782', 'detail': None} FAILED 2016-01-30 18:00:49.536000 PigLatin:load_results.pig\n",
      "None PigLatin:load_results.pig\n"
     ]
    }
   ],
   "source": [
    "import datetime \n",
    "res = client.job_queue()\n",
    "res.reverse()   # les derniers jobs d'abord    \n",
    "date = datetime.datetime.today()\n",
    "for i, r in enumerate(res[:20]):\n",
    "    st = client.job_status(r[\"id\"])\n",
    "    if st[\"status\"][\"state\"] != \"SUCCEEDED\" :\n",
    "        print(i, r, st[\"status\"][\"state\"],date.fromtimestamp(float(st[\"status\"][\"startTime\"])/1000), st[\"status\"][\"jobName\"])\n",
    "        print(st[\"userargs\"].get(\"file\", None), st[\"profile\"].get(\"jobName\", None))\n",
    "        "
   ]
  },
  {
   "cell_type": "code",
   "execution_count": 224,
   "metadata": {
    "collapsed": false
   },
   "outputs": [
    {
     "data": {
      "text/plain": [
       "{'callback': None,\n",
       " 'completed': None,\n",
       " 'exitValue': None,\n",
       " 'id': 'job_1452664005967_0449',\n",
       " 'msg': None,\n",
       " 'parentId': 'job_1452664005967_0448',\n",
       " 'percentComplete': None,\n",
       " 'profile': {'jobFile': '/user/admin/.staging/job_1452664005967_0449/job.xml',\n",
       "  'jobID': {'id': 449, 'jtIdentifier': '1452664005967'},\n",
       "  'jobId': 'job_1452664005967_0449',\n",
       "  'jobName': 'PigLatin:dom.pig',\n",
       "  'queueName': 'default',\n",
       "  'url': 'http://headnodehost:9014/cluster/app/application_1452664005967_0449',\n",
       "  'user': 'admin'},\n",
       " 'status': {'cleanupProgress': 0.0,\n",
       "  'failureInfo': 'NA',\n",
       "  'finishTime': 1453990272799,\n",
       "  'historyFile': '',\n",
       "  'jobACLs': {},\n",
       "  'jobComplete': True,\n",
       "  'jobFile': '/user/admin/.staging/job_1452664005967_0449/job.xml',\n",
       "  'jobID': {'id': 449, 'jtIdentifier': '1452664005967'},\n",
       "  'jobId': 'job_1452664005967_0449',\n",
       "  'jobName': 'PigLatin:dom.pig',\n",
       "  'jobPriority': 'NORMAL',\n",
       "  'mapProgress': 0.0,\n",
       "  'neededMem': 0,\n",
       "  'numReservedSlots': 0,\n",
       "  'numUsedSlots': 0,\n",
       "  'priority': 'NORMAL',\n",
       "  'queue': 'default',\n",
       "  'reduceProgress': 0.0,\n",
       "  'reservedMem': 0,\n",
       "  'retired': False,\n",
       "  'runState': 5,\n",
       "  'schedulingInfo': 'NA',\n",
       "  'setupProgress': 0.0,\n",
       "  'startTime': 1453989787610,\n",
       "  'state': 'KILLED',\n",
       "  'trackingUrl': 'http://headnodehost:9014/cluster/app/application_1452664005967_0449',\n",
       "  'uber': False,\n",
       "  'usedMem': 0,\n",
       "  'username': 'admin'},\n",
       " 'user': 'admin',\n",
       " 'userargs': {}}"
      ]
     },
     "execution_count": 224,
     "metadata": {},
     "output_type": "execute_result"
    }
   ],
   "source": [
    " client.job_kill(\"job_1452664005967_0449\")"
   ]
  },
  {
   "cell_type": "code",
   "execution_count": 291,
   "metadata": {
    "collapsed": false
   },
   "outputs": [],
   "source": [
    "emit ={}\n",
    "emit['1_2']=2\n",
    "emit['1_3']=3\n",
    "emit['1_4']=2\n",
    "emit['2_1']=2\n",
    "emit['2_2']=5\n",
    "emit['2_3']=1\n",
    "emit['2_4']=3"
   ]
  },
  {
   "cell_type": "code",
   "execution_count": 297,
   "metadata": {
    "collapsed": false
   },
   "outputs": [
    {
     "data": {
      "text/plain": [
       "array(['2_4', '2_2', '2_1', '2_3', '1_4', '1_3', '1_2'], \n",
       "      dtype='<U3')"
      ]
     },
     "execution_count": 297,
     "metadata": {},
     "output_type": "execute_result"
    }
   ],
   "source": [
    "import pandas as pd\n",
    "import numpy as np\n",
    "np.stack(emit)\n"
   ]
  },
  {
   "cell_type": "code",
   "execution_count": 362,
   "metadata": {
    "collapsed": true
   },
   "outputs": [],
   "source": [
    "%%PIG_azure exptestnumpy.pig\n",
    "\n",
    "DEFINE computeMatrixNorms(cData,sqrt_gamma) RETURNS Matrix_Norms {\n",
    "    cData_grp = GROUP $cData BY MovieID;\n",
    "    -- On calcule la norme et le gamma sur la norme\n",
    "    $Matrix_Norms = FOREACH cData_grp {\n",
    "        tmp_out = FOREACH $cData GENERATE Rating*Rating;\n",
    "        out = SUM(tmp_out);\n",
    "        GENERATE group as MovieID, SQRT(out) as Norm, ($sqrt_gamma.$0/SQRT(out)>1?1:$sqrt_gamma.$0/SQRT(out)) as Prob_j,RANDOM() as Rand_j,RANDOM() as Rand_k;\n",
    "    }\n",
    "}\n",
    "\n",
    "cData =  LOAD '$CONTAINER/imdd/ratings_mean_short.csv'\n",
    "        using PigStorage (',')\n",
    "        AS (UserID:int, MovieID:int, Rating:double) ;\n",
    "\n",
    "-- On calcul le gamma\n",
    "users = GROUP cData all ;\n",
    "total= FOREACH users GENERATE MAX($1.UserID) as m, MAX($1.MovieID) as n;\n",
    "sqrt_gamma = FOREACH total GENERATE SQRT(4*LOG(n)/0.5) as a;\n",
    "        \n",
    "        \n",
    "-- On calcule la norme et le gamma sur la norme\n",
    "Matrix_Norms = computeMatrixNorms(cData,sqrt_gamma);\n",
    "\n",
    "-- On ajoute la colonne Norm et probabilite dans cData\n",
    "C = JOIN cData BY MovieID,Matrix_Norms BY MovieID;\n",
    "D = FOREACH C GENERATE cData::UserID as UserID_f,cData::MovieID as MovieID_f,cData::Rating as Rating_f,\n",
    "                        Matrix_Norms::Norm as Norm_f,Matrix_Norms::Prob_j as Prob_j_f,Rand_j as Rand_j,Rand_k as Rand_k;\n",
    "\n",
    "Matrix_data = GROUP D BY UserID_f;\n",
    "FF = FOREACH Matrix_data GENERATE group as UID, FLATTEN(D.MovieID_f) as MV1;\n",
    "-- Ajout des informations de MV1\n",
    "FFF = JOIN FF BY (UID,MV1), D BY (UserID_f,MovieID_f); \n",
    "-- Condition de validite premier IF\n",
    "FFD = FILTER FFF BY RANDOM()<Prob_j_f;\n",
    "-- Ajout de la seconde loop\n",
    "GG = JOIN FFD BY UID, D BY UserID_f;\n",
    "-- Cleaning du tableau\n",
    "GGG = FOREACH GG GENERATE FFD::FF::UID as UserID,FFD::FF::MV1 as MV_1,FFD::D::Rating_f as Rating_1,FFD::D::Norm_f as Norm_1,\n",
    "                FFD::D::Prob_j_f as Proba_1,D::MovieID_f as MV_2,D::Rating_f as Rating_2,\n",
    "                D::Norm_f as Norm_2,D::Prob_j_f as Proba_2,\n",
    "                D::Rand_j as Rand_j,D::Rand_k as Rand_k;\n",
    "                                \n",
    "-- Ajout de la deuxieme boucle\n",
    "-- Condition de validite second IF\n",
    "GGD = FILTER GGG BY RANDOM()<Proba_2;\n",
    "DESCRIBE GGD;\n",
    "-- Generation des similarites\n",
    "HH = FOREACH GGD{\n",
    "    val = Rating_1*Rating_2/(((sqrt_gamma.$0>Norm_1)?Norm_1:sqrt_gamma.$0)*((sqrt_gamma.$0>Norm_2)?Norm_2:sqrt_gamma.$0));\n",
    "    GENERATE MV_1,MV_2,val;\n",
    "}\n",
    "\n",
    "STORE HH INTO '$CONTAINER/$PSEUDO/dom/matrix_all2.txt' USING PigStorage(',');\n"
   ]
  },
  {
   "cell_type": "code",
   "execution_count": 128,
   "metadata": {
    "collapsed": true
   },
   "outputs": [],
   "source": [
    "%%PIG_azure load_results.pig\n",
    "\n",
    "\n",
    "cData =  LOAD '$CONTAINER/$PSEUDO/dom/matrix_all2.txt'\n",
    "        using PigStorage (',')\n",
    "        AS (MovieID1:int, MovieID2:int, sim:double) ;\n",
    "\n",
    "filtered = FILTER cData BY MovieID1 == $MvID ;\n",
    "ordered = ORDER filtered BY sim DESC;\n",
    "ordered_limit = LIMIT ordered $size;\n",
    "movies = FOREACH ordered_limit GENERATE MovieID2;\n",
    "STORE movies INTO '$CONTAINER/imdd/dom/recom.txt' USING PigStorage(',');"
   ]
  },
  {
   "cell_type": "code",
   "execution_count": 137,
   "metadata": {
    "collapsed": false
   },
   "outputs": [
    {
     "data": {
      "text/plain": [
       "{'id': 'job_1452664005967_0835'}"
      ]
     },
     "execution_count": 137,
     "metadata": {},
     "output_type": "execute_result"
    }
   ],
   "source": [
    "if client.exists(bs, client.account_name, \"$PSEUDO/imdd/dom/recom.txt\"):\n",
    "    r = client.delete_folder (bs, client.account_name, \"$PSEUDO/imdd/dom/recom.txt\")\n",
    "jid = client.pig_submit(bs, blobstorage, \"load_results.pig\",params={\"MvID\":'1610',\"size\":\"20\"})\n",
    "jid"
   ]
  },
  {
   "cell_type": "code",
   "execution_count": 141,
   "metadata": {
    "collapsed": false
   },
   "outputs": [
    {
     "data": {
      "text/plain": [
       "('job_1452664005967_0835', '75% complete', 'done', True, 'SUCCEEDED')"
      ]
     },
     "execution_count": 141,
     "metadata": {},
     "output_type": "execute_result"
    }
   ],
   "source": [
    "st = %hd_job_status jid[\"id\"]\n",
    "(st[\"id\"],st[\"percentComplete\"],st[\"completed\"],\n",
    "st[\"status\"][\"jobComplete\"],st[\"status\"][\"state\"])"
   ]
  },
  {
   "cell_type": "code",
   "execution_count": 142,
   "metadata": {
    "collapsed": false
   },
   "outputs": [
    {
     "data": {
      "text/plain": [
       "'recom.txt'"
      ]
     },
     "execution_count": 142,
     "metadata": {},
     "output_type": "execute_result"
    }
   ],
   "source": [
    "import os\n",
    "if os.path.exists(\"recom.txt\"):os.remove(\"recom.txt\")\n",
    "%blob_downmerge /imdd/dom/recom.txt recom.txt"
   ]
  },
  {
   "cell_type": "code",
   "execution_count": 143,
   "metadata": {
    "collapsed": false
   },
   "outputs": [
    {
     "name": "stdout",
     "output_type": "stream",
     "text": [
      "3255\n",
      "3147\n",
      "380\n",
      "3095\n",
      "3071\n",
      "3068\n",
      "3035\n",
      "3030\n",
      "2943\n",
      "982\n",
      "2858\n",
      "368\n",
      "920\n",
      "356\n",
      "349\n",
      "318\n",
      "2571\n",
      "2501\n",
      "2396\n",
      "2353\n",
      "\n"
     ]
    }
   ],
   "source": [
    " with open('recom.txt', 'r') as f:\n",
    "    read_data = f.read()\n",
    "    print(read_data)"
   ]
  },
  {
   "cell_type": "code",
   "execution_count": null,
   "metadata": {
    "collapsed": true
   },
   "outputs": [],
   "source": []
  }
 ],
 "metadata": {
  "kernelspec": {
   "display_name": "Python 3",
   "language": "python",
   "name": "python3"
  },
  "language_info": {
   "codemirror_mode": {
    "name": "ipython",
    "version": 3
   },
   "file_extension": ".py",
   "mimetype": "text/x-python",
   "name": "python",
   "nbconvert_exporter": "python",
   "pygments_lexer": "ipython3",
   "version": "3.4.3"
  }
 },
 "nbformat": 4,
 "nbformat_minor": 0
}
